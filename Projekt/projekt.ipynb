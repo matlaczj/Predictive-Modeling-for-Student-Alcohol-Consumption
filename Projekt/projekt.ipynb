{
 "cells": [
  {
   "cell_type": "code",
   "execution_count": 31,
   "metadata": {},
   "outputs": [],
   "source": [
    "from our_library.our_reusable_methods import *\n",
    "\n",
    "import pandas as pd\n",
    "import seaborn as sns\n",
    "\n",
    "from sklearn.linear_model import LinearRegression,Ridge,Lasso,ElasticNet,Lars\n",
    "from sklearn.svm import SVR\n",
    "from sklearn.preprocessing import OneHotEncoder,MinMaxScaler\n",
    "from sklearn.model_selection import train_test_split\n",
    "from sklearn.metrics import *\n",
    "\n",
    "import warnings\n",
    "warnings.filterwarnings(\"ignore\")"
   ]
  },
  {
   "cell_type": "markdown",
   "metadata": {},
   "source": [
    "# **Tematyka projektu**\n",
    "Stworzenie modelu regresji do przewidywania ilości spożywanego przez młodzież alkoholu zależnie od czynników środowiskowych. <br>\n",
    "https://data.world/data-society/student-alcohol-consumption <br>\n",
    "Oryginalny zbiór zawiera dane z podziałem na szkoły i 2 tabeli posiadają dane nt. ocen z matematyki oraz języka. Połączyłem obie tabelki w jedną i usunąłem niepotrzebne kolumny. Zmienne opisywane to spożycie w tygodniu oraz w weekendy. Połączę obie zmienne w jedną we wspólny współczynnik patologicznego spożycia, gdzie picie w tygodniu będzie liczone wyżej."
   ]
  },
  {
   "cell_type": "markdown",
   "metadata": {},
   "source": [
    "# **Przygotowanie danych**"
   ]
  },
  {
   "cell_type": "code",
   "execution_count": null,
   "metadata": {},
   "outputs": [],
   "source": [
    "# wczytanie zbioru i usunięcie niepotrzebnych nam kolumn\n",
    "d1 = pd.read_csv(\"student-mat.csv\")\n",
    "d2 = pd.read_csv(\"student-por.csv\")\n",
    "# łączę obie tabelki w jedną\n",
    "dataset = pd.concat([d1,d2], ignore_index=True)\n",
    "# zakładam, że picie w tygodniu dwukrotnie mocniej wskazuje na problem alkoholowy\n",
    "dataset['alc'] = 2 * dataset.Dalc + dataset.Walc\n",
    "# usuwam zbędne kolumny\n",
    "columns_to_drop = [\"school\",\"G1\",\"G2\",\"G3\",\"paid\",\"Dalc\",\"Walc\"]\n",
    "dataset = dataset.drop(columns=columns_to_drop)\n",
    "# usunięcie rekordów z brakami\n",
    "dataset = dataset.dropna()\n",
    "# prosta binaryzacja atrybutów tam gdzie to możliwe\n",
    "dataset.sex = dataset.sex.apply(lambda x:0 if x==\"F\" else 1)\n",
    "dataset.address = dataset.address.apply(lambda x:0 if x==\"R\" else 1)\n",
    "dataset.famsize = dataset.famsize.apply(lambda x:0 if x==\"LE3\" else 1)\n",
    "dataset.Pstatus = dataset.Pstatus.apply(lambda x:0 if x==\"T\" else 1)\n",
    "# zamiast pisać ręcznie dla każdej jak powyżej\n",
    "yes_no_columns = ['schoolsup','famsup','activities','nursery','higher','internet','romantic']\n",
    "for c in yes_no_columns:\n",
    "    dataset[c] = dataset[c].apply(lambda x:0 if x==\"yes\" else 1)\n",
    "# binaryzacja techniką one-hot-encode atrybytów kategorycznych\n",
    "features_to_encode = ['Mjob','Fjob','reason','guardian']\n",
    "encoder = OneHotEncoder()\n",
    "results = encoder.fit_transform(dataset.loc[:,features_to_encode])\n",
    "# zamiana starych atr. kat. na nowe one-hot-y\n",
    "dataset_without_categoricals = dataset.drop(columns=features_to_encode).reset_index().drop(columns=[\"index\"])\n",
    "encoded_categoricals = pd.DataFrame(results.toarray(), columns=encoder.get_feature_names(features_to_encode)).reset_index().drop(columns=[\"index\"])\n",
    "dataset = pd.concat([dataset_without_categoricals, encoded_categoricals], axis=1)\n",
    "# zamiana typów danych na int64\n",
    "dataset = dataset.convert_dtypes()"
   ]
  },
  {
   "cell_type": "code",
   "execution_count": null,
   "metadata": {},
   "outputs": [],
   "source": [
    "dataset.describe().iloc[1:,:]"
   ]
  },
  {
   "cell_type": "code",
   "execution_count": null,
   "metadata": {},
   "outputs": [],
   "source": [
    "plt.figure(figsize=(20,4))\n",
    "ax = sns.boxplot(data=dataset)\n",
    "ax.set_xticklabels(ax.get_xticklabels(),rotation=45)\n",
    "ax.set_yscale('log')"
   ]
  },
  {
   "cell_type": "code",
   "execution_count": null,
   "metadata": {},
   "outputs": [],
   "source": [
    "plt.figure(figsize=(15,10))\n",
    "sns.heatmap(data=dataset.corr());"
   ]
  },
  {
   "cell_type": "code",
   "execution_count": null,
   "metadata": {},
   "outputs": [],
   "source": [
    "# skalowanie minmax, nie wpływa na nasze atr. binarne, ale wyrównuje wpływ z pozostałymi atrybutami\n",
    "scaler = MinMaxScaler()\n",
    "dataset = pd.DataFrame(scaler.fit_transform(dataset), columns = dataset.columns)\n",
    "# podział wyczyszczonego zbioru na części, wszystko robimy na treningowym (włącznie z walidacją), \n",
    "# a testowy dopiero na sam koniec dla już wybranego modelu\n",
    "X_train, X_test, y_train, y_test = train_test_split(dataset.drop(columns=['alc']), dataset['alc'], test_size=0.2, random_state=1)"
   ]
  },
  {
   "cell_type": "markdown",
   "metadata": {},
   "source": [
    "# **Szukanie Modelu**\n",
    "Przetestujemy następujące modele regresji:\n",
    "- Multiple LinearRegression\n",
    "- Ridge\n",
    "- Lasso\n",
    "- Elastic-Net\n",
    "- SVR with kernel:\n",
    "\n",
    "<ol>\n",
    "<li>Poly</li>\n",
    "<li>Linear</li>\n",
    "<li>RBF</li>\n",
    "</ol>\n",
    "\n",
    "- Least Angle Regression"
   ]
  },
  {
   "cell_type": "markdown",
   "metadata": {},
   "source": [
    "# Wieloraka Regresja Liniowa\n",
    "Nie posiada żadnych hiperparametrów."
   ]
  },
  {
   "cell_type": "code",
   "execution_count": null,
   "metadata": {},
   "outputs": [],
   "source": [
    "model = LinearRegression()\n",
    "test_model(model,X_train,y_train,X_test,y_test)"
   ]
  },
  {
   "cell_type": "markdown",
   "metadata": {},
   "source": [
    "# Regresja Grzbietowa"
   ]
  },
  {
   "cell_type": "code",
   "execution_count": null,
   "metadata": {},
   "outputs": [],
   "source": [
    "train_scores_mean, validation_scores_mean = plot_validation_curve(\n",
    "    model = Ridge(random_state=1),\n",
    "    model_name = \"Ridge Regression\",\n",
    "    X = X_train,\n",
    "    y = y_train,\n",
    "    param_range = np.logspace(-10,10,100),\n",
    "    param_name = \"alpha\",\n",
    "    scoring = \"neg_mean_absolute_error\",\n",
    "    cv=5,\n",
    "    verbose=0,\n",
    "    xscale = \"log\"\n",
    ")"
   ]
  },
  {
   "cell_type": "code",
   "execution_count": null,
   "metadata": {},
   "outputs": [],
   "source": [
    "model = Ridge(alpha=1e-2,random_state=1)\n",
    "test_model(model,X_train,y_train,X_test,y_test)"
   ]
  },
  {
   "cell_type": "markdown",
   "metadata": {},
   "source": [
    "# Regresja Lasso"
   ]
  },
  {
   "cell_type": "code",
   "execution_count": null,
   "metadata": {},
   "outputs": [],
   "source": [
    "train_scores_mean, validation_scores_mean = plot_validation_curve(\n",
    "    model = Lasso(random_state=1),\n",
    "    model_name = \"Lasso Regression\",\n",
    "    X = X_train,\n",
    "    y = y_train,\n",
    "    param_range = np.logspace(-10,10,100),\n",
    "    param_name = \"alpha\",\n",
    "    scoring = \"neg_mean_absolute_error\",\n",
    "    cv=5,\n",
    "    verbose=0,\n",
    "    xscale = \"log\"\n",
    ")"
   ]
  },
  {
   "cell_type": "code",
   "execution_count": null,
   "metadata": {},
   "outputs": [],
   "source": [
    "model = Lasso(alpha=1e-4,random_state=1)\n",
    "test_model(model,X_train,y_train,X_test,y_test)"
   ]
  },
  {
   "cell_type": "markdown",
   "metadata": {},
   "source": [
    "# Elastic-Net"
   ]
  },
  {
   "cell_type": "code",
   "execution_count": null,
   "metadata": {},
   "outputs": [],
   "source": [
    "train_scores_mean, validation_scores_mean = plot_validation_curve(\n",
    "    model = ElasticNet(random_state=1),\n",
    "    model_name = \"ElasticNet Regression\",\n",
    "    X = X_train,\n",
    "    y = y_train,\n",
    "    param_range = np.logspace(-10,10,100),\n",
    "    param_name = \"alpha\",\n",
    "    scoring = \"neg_mean_absolute_error\",\n",
    "    cv=5,\n",
    "    verbose=0, \n",
    "    xscale = \"log\"\n",
    ")"
   ]
  },
  {
   "cell_type": "code",
   "execution_count": null,
   "metadata": {},
   "outputs": [],
   "source": [
    "train_scores_mean, validation_scores_mean = plot_validation_curve(\n",
    "    model = ElasticNet(random_state=1,alpha=1e-4),\n",
    "    model_name = \"ElasticNet Regression (alpha=1e-4)\",\n",
    "    X = X_train,\n",
    "    y = y_train,\n",
    "    param_range = np.arange(0,1.01,0.01),\n",
    "    param_name = \"l1_ratio\",\n",
    "    scoring = \"neg_mean_absolute_error\",\n",
    "    cv=5,\n",
    "    verbose=0, \n",
    "    xscale = \"lin\"\n",
    ")"
   ]
  },
  {
   "cell_type": "code",
   "execution_count": null,
   "metadata": {},
   "outputs": [],
   "source": [
    "model = ElasticNet(alpha=1e-4,random_state=1)\n",
    "test_model(model,X_train,y_train,X_test,y_test)"
   ]
  },
  {
   "cell_type": "markdown",
   "metadata": {},
   "source": [
    "# SVM Z Jądrem Wielomianowym"
   ]
  },
  {
   "cell_type": "code",
   "execution_count": null,
   "metadata": {},
   "outputs": [],
   "source": [
    "train_scores_mean, validation_scores_mean = plot_validation_curve(\n",
    "    model = SVR(kernel=\"poly\"),\n",
    "    model_name = \"Poly SVR\",\n",
    "    X = X_train,\n",
    "    y = y_train,\n",
    "    param_range = np.arange(0,30),\n",
    "    param_name = \"degree\",\n",
    "    scoring = \"neg_mean_absolute_error\",\n",
    "    cv=5,\n",
    "    verbose=0,\n",
    "    xscale = \"lin\"\n",
    ")"
   ]
  },
  {
   "cell_type": "code",
   "execution_count": null,
   "metadata": {},
   "outputs": [],
   "source": [
    "train_scores_mean, validation_scores_mean = plot_validation_curve(\n",
    "    model = SVR(kernel=\"poly\",degree=5),\n",
    "    model_name = \"Poly SVR (degree=5)\",\n",
    "    X = X_train,\n",
    "    y = y_train,\n",
    "    param_range = np.logspace(-3,1,100),\n",
    "    param_name = \"gamma\",\n",
    "    scoring = \"neg_mean_absolute_error\",\n",
    "    cv=5,\n",
    "    verbose=2,\n",
    "    xscale = \"log\"\n",
    ")"
   ]
  },
  {
   "cell_type": "code",
   "execution_count": null,
   "metadata": {},
   "outputs": [],
   "source": [
    "train_scores_mean, validation_scores_mean = plot_validation_curve(\n",
    "    model = SVR(kernel=\"poly\",degree=5,gamma=1),\n",
    "    model_name = \"Poly SVR (degree=5,gamma=1)\",\n",
    "    X = X_train,\n",
    "    y = y_train,\n",
    "    param_range = np.logspace(-10,-2,100),\n",
    "    param_name = \"C\",\n",
    "    scoring = \"neg_mean_absolute_error\",\n",
    "    cv=5,\n",
    "    verbose=2,\n",
    "    xscale = \"log\"\n",
    ")"
   ]
  },
  {
   "cell_type": "code",
   "execution_count": null,
   "metadata": {},
   "outputs": [],
   "source": [
    "train_scores_mean, validation_scores_mean = plot_validation_curve(\n",
    "    model = SVR(kernel=\"poly\",degree=5,gamma=1,C=1e-3),\n",
    "    model_name = \"Poly SVR (degree=5,gamma=1,C=1e-3)\",\n",
    "    X = X_train,\n",
    "    y = y_train,\n",
    "    param_range = np.logspace(-5,1,30),\n",
    "    param_name = \"epsilon\",\n",
    "    scoring = \"neg_mean_absolute_error\",\n",
    "    cv=5,\n",
    "    verbose=2,\n",
    "    xscale = \"log\"\n",
    ")"
   ]
  },
  {
   "cell_type": "code",
   "execution_count": null,
   "metadata": {},
   "outputs": [],
   "source": [
    "model = SVR(kernel=\"poly\",degree=5,gamma=1,C=1e-3,epsilon=1e-3)\n",
    "test_model(model,X_train,y_train,X_test,y_test)"
   ]
  },
  {
   "cell_type": "markdown",
   "metadata": {},
   "source": [
    "# SVM Z Jądrem Liniowym"
   ]
  },
  {
   "cell_type": "code",
   "execution_count": null,
   "metadata": {},
   "outputs": [],
   "source": [
    "train_scores_mean, validation_scores_mean = plot_validation_curve(\n",
    "    model = SVR(kernel=\"linear\"),\n",
    "    model_name = \"Linear SVR\",\n",
    "    X = X_train,\n",
    "    y = y_train,\n",
    "    param_range = np.logspace(-6,1,100),\n",
    "    param_name = \"C\",\n",
    "    scoring = \"neg_mean_absolute_error\",\n",
    "    cv=5,\n",
    "    verbose=2,\n",
    "    xscale = \"log\"\n",
    ")"
   ]
  },
  {
   "cell_type": "code",
   "execution_count": null,
   "metadata": {},
   "outputs": [],
   "source": [
    "train_scores_mean, validation_scores_mean = plot_validation_curve(\n",
    "    model = SVR(kernel=\"linear\",C=1e-1),\n",
    "    model_name = \"Linear SVR (C=1e-1)\",\n",
    "    X = X_train,\n",
    "    y = y_train,\n",
    "    param_range = np.logspace(-4,1,100),\n",
    "    param_name = \"epsilon\",\n",
    "    scoring = \"neg_mean_absolute_error\",\n",
    "    cv=5,\n",
    "    verbose=2,\n",
    "    xscale = \"log\"\n",
    ")"
   ]
  },
  {
   "cell_type": "code",
   "execution_count": null,
   "metadata": {},
   "outputs": [],
   "source": [
    "model = SVR(kernel=\"linear\",C=1e-1,epsilon=1e-2)\n",
    "test_model(model,X_train,y_train,X_test,y_test)"
   ]
  },
  {
   "cell_type": "markdown",
   "metadata": {},
   "source": [
    "# SVM Z Jądrem RBF"
   ]
  },
  {
   "cell_type": "code",
   "execution_count": 18,
   "metadata": {},
   "outputs": [
    {
     "name": "stderr",
     "output_type": "stream",
     "text": [
      "[Parallel(n_jobs=1)]: Using backend SequentialBackend with 1 concurrent workers.\n",
      "[Parallel(n_jobs=1)]: Done   1 out of   1 | elapsed:    0.0s remaining:    0.0s\n"
     ]
    },
    {
     "name": "stdout",
     "output_type": "stream",
     "text": [
      "[CV] END ........................................gamma=1e-10; total time=   0.0s\n",
      "[CV] END .......................gamma=2.5595479226995335e-10; total time=   0.0s\n",
      "[CV] END ........................gamma=6.551285568595495e-10; total time=   0.0s\n",
      "[CV] END .........................gamma=1.67683293681101e-09; total time=   0.0s\n",
      "[CV] END ........................gamma=4.291934260128778e-09; total time=   0.0s\n",
      "[CV] END .......................gamma=1.0985411419875573e-08; total time=   0.0s\n",
      "[CV] END .......................gamma=2.8117686979742307e-08; total time=   0.0s\n",
      "[CV] END ........................gamma=7.196856730011529e-08; total time=   0.0s\n",
      "[CV] END .......................gamma=1.8420699693267165e-07; total time=   0.0s\n",
      "[CV] END .......................gamma=4.7148663634573897e-07; total time=   0.0s\n",
      "[CV] END .......................gamma=1.2067926406393288e-06; total time=   0.0s\n",
      "[CV] END ........................gamma=3.088843596477485e-06; total time=   0.0s\n",
      "[CV] END ........................gamma=7.906043210907702e-06; total time=   0.0s\n",
      "[CV] END .......................gamma=2.0235896477251556e-05; total time=   0.0s\n",
      "[CV] END .......................gamma=5.1794746792312125e-05; total time=   0.0s\n",
      "[CV] END ........................gamma=0.0001325711365590111; total time=   0.0s\n",
      "[CV] END .........................gamma=0.000339322177189533; total time=   0.0s\n",
      "[CV] END .........................gamma=0.000868511373751352; total time=   0.0s\n",
      "[CV] END ........................gamma=0.0022229964825261957; total time=   0.0s\n",
      "[CV] END .........................gamma=0.005689866029018305; total time=   0.0s\n",
      "[CV] END .........................gamma=0.014563484775012445; total time=   0.0s\n",
      "[CV] END ..........................gamma=0.03727593720314938; total time=   0.0s\n",
      "[CV] END ..........................gamma=0.09540954763499963; total time=   0.0s\n",
      "[CV] END ...........................gamma=0.2442053094548655; total time=   0.0s\n",
      "[CV] END ...........................gamma=0.6250551925273976; total time=   0.0s\n",
      "[CV] END ...........................gamma=1.5998587196060574; total time=   0.0s\n",
      "[CV] END ............................gamma=4.094915062380419; total time=   0.0s\n",
      "[CV] END ...........................gamma=10.481131341546874; total time=   0.0s\n",
      "[CV] END ...........................gamma=26.826957952797272; total time=   0.0s\n",
      "[CV] END ............................gamma=68.66488450042998; total time=   0.0s\n",
      "[CV] END ...........................gamma=175.75106248547965; total time=   0.0s\n",
      "[CV] END ............................gamma=449.8432668969453; total time=   0.0s\n",
      "[CV] END ...........................gamma=1151.3953993264481; total time=   0.0s\n",
      "[CV] END ...........................gamma=2947.0517025518097; total time=   0.0s\n",
      "[CV] END ............................gamma=7543.120063354608; total time=   0.0s\n",
      "[CV] END ...........................gamma=19306.977288832535; total time=   0.0s\n",
      "[CV] END ............................gamma=49417.13361323838; total time=   0.0s\n",
      "[CV] END ...........................gamma=126485.52168552957; total time=   0.0s\n",
      "[CV] END ............................gamma=323745.7542817653; total time=   0.0s\n",
      "[CV] END ............................gamma=828642.7728546859; total time=   0.0s\n",
      "[CV] END ...........................gamma=2120950.8879201924; total time=   0.0s\n",
      "[CV] END ............................gamma=5428675.439323859; total time=   0.0s\n",
      "[CV] END ............................gamma=13894954.94373136; total time=   0.0s\n",
      "[CV] END ............................gamma=35564803.06223121; total time=   0.0s\n",
      "[CV] END ............................gamma=91029817.79915264; total time=   0.0s\n",
      "[CV] END ...........................gamma=232995181.05153814; total time=   0.0s\n",
      "[CV] END ............................gamma=596362331.6594661; total time=   0.0s\n",
      "[CV] END ...........................gamma=1526417967.1752365; total time=   0.0s\n",
      "[CV] END ...........................gamma=3906939937.0546207; total time=   0.0s\n",
      "[CV] END ................................gamma=10000000000.0; total time=   0.0s\n",
      "[CV] END ........................................gamma=1e-10; total time=   0.0s\n",
      "[CV] END .......................gamma=2.5595479226995335e-10; total time=   0.0s\n",
      "[CV] END ........................gamma=6.551285568595495e-10; total time=   0.0s\n",
      "[CV] END .........................gamma=1.67683293681101e-09; total time=   0.0s\n",
      "[CV] END ........................gamma=4.291934260128778e-09; total time=   0.0s\n",
      "[CV] END .......................gamma=1.0985411419875573e-08; total time=   0.0s\n",
      "[CV] END .......................gamma=2.8117686979742307e-08; total time=   0.0s\n",
      "[CV] END ........................gamma=7.196856730011529e-08; total time=   0.0s\n",
      "[CV] END .......................gamma=1.8420699693267165e-07; total time=   0.0s\n",
      "[CV] END .......................gamma=4.7148663634573897e-07; total time=   0.0s\n",
      "[CV] END .......................gamma=1.2067926406393288e-06; total time=   0.0s\n",
      "[CV] END ........................gamma=3.088843596477485e-06; total time=   0.0s\n",
      "[CV] END ........................gamma=7.906043210907702e-06; total time=   0.0s\n",
      "[CV] END .......................gamma=2.0235896477251556e-05; total time=   0.0s\n",
      "[CV] END .......................gamma=5.1794746792312125e-05; total time=   0.0s\n",
      "[CV] END ........................gamma=0.0001325711365590111; total time=   0.0s\n",
      "[CV] END .........................gamma=0.000339322177189533; total time=   0.0s\n",
      "[CV] END .........................gamma=0.000868511373751352; total time=   0.0s\n",
      "[CV] END ........................gamma=0.0022229964825261957; total time=   0.0s\n",
      "[CV] END .........................gamma=0.005689866029018305; total time=   0.0s\n",
      "[CV] END .........................gamma=0.014563484775012445; total time=   0.0s\n",
      "[CV] END ..........................gamma=0.03727593720314938; total time=   0.0s\n",
      "[CV] END ..........................gamma=0.09540954763499963; total time=   0.0s\n",
      "[CV] END ...........................gamma=0.2442053094548655; total time=   0.0s\n",
      "[CV] END ...........................gamma=0.6250551925273976; total time=   0.0s\n",
      "[CV] END ...........................gamma=1.5998587196060574; total time=   0.0s\n",
      "[CV] END ............................gamma=4.094915062380419; total time=   0.0s\n",
      "[CV] END ...........................gamma=10.481131341546874; total time=   0.0s\n",
      "[CV] END ...........................gamma=26.826957952797272; total time=   0.0s\n",
      "[CV] END ............................gamma=68.66488450042998; total time=   0.0s\n",
      "[CV] END ...........................gamma=175.75106248547965; total time=   0.0s\n",
      "[CV] END ............................gamma=449.8432668969453; total time=   0.0s\n",
      "[CV] END ...........................gamma=1151.3953993264481; total time=   0.0s\n",
      "[CV] END ...........................gamma=2947.0517025518097; total time=   0.0s\n",
      "[CV] END ............................gamma=7543.120063354608; total time=   0.0s\n",
      "[CV] END ...........................gamma=19306.977288832535; total time=   0.0s\n",
      "[CV] END ............................gamma=49417.13361323838; total time=   0.0s\n",
      "[CV] END ...........................gamma=126485.52168552957; total time=   0.0s\n",
      "[CV] END ............................gamma=323745.7542817653; total time=   0.0s\n",
      "[CV] END ............................gamma=828642.7728546859; total time=   0.0s\n",
      "[CV] END ...........................gamma=2120950.8879201924; total time=   0.0s\n",
      "[CV] END ............................gamma=5428675.439323859; total time=   0.0s\n",
      "[CV] END ............................gamma=13894954.94373136; total time=   0.0s\n",
      "[CV] END ............................gamma=35564803.06223121; total time=   0.0s\n",
      "[CV] END ............................gamma=91029817.79915264; total time=   0.0s\n",
      "[CV] END ...........................gamma=232995181.05153814; total time=   0.0s\n",
      "[CV] END ............................gamma=596362331.6594661; total time=   0.0s\n",
      "[CV] END ...........................gamma=1526417967.1752365; total time=   0.0s\n",
      "[CV] END ...........................gamma=3906939937.0546207; total time=   0.0s\n",
      "[CV] END ................................gamma=10000000000.0; total time=   0.0s\n",
      "[CV] END ........................................gamma=1e-10; total time=   0.0s\n",
      "[CV] END .......................gamma=2.5595479226995335e-10; total time=   0.0s\n",
      "[CV] END ........................gamma=6.551285568595495e-10; total time=   0.0s\n",
      "[CV] END .........................gamma=1.67683293681101e-09; total time=   0.0s\n",
      "[CV] END ........................gamma=4.291934260128778e-09; total time=   0.0s\n",
      "[CV] END .......................gamma=1.0985411419875573e-08; total time=   0.0s\n",
      "[CV] END .......................gamma=2.8117686979742307e-08; total time=   0.0s\n",
      "[CV] END ........................gamma=7.196856730011529e-08; total time=   0.0s\n",
      "[CV] END .......................gamma=1.8420699693267165e-07; total time=   0.0s\n",
      "[CV] END .......................gamma=4.7148663634573897e-07; total time=   0.0s\n",
      "[CV] END .......................gamma=1.2067926406393288e-06; total time=   0.0s\n",
      "[CV] END ........................gamma=3.088843596477485e-06; total time=   0.0s\n",
      "[CV] END ........................gamma=7.906043210907702e-06; total time=   0.0s\n",
      "[CV] END .......................gamma=2.0235896477251556e-05; total time=   0.0s\n",
      "[CV] END .......................gamma=5.1794746792312125e-05; total time=   0.0s\n",
      "[CV] END ........................gamma=0.0001325711365590111; total time=   0.0s\n",
      "[CV] END .........................gamma=0.000339322177189533; total time=   0.0s\n",
      "[CV] END .........................gamma=0.000868511373751352; total time=   0.0s\n",
      "[CV] END ........................gamma=0.0022229964825261957; total time=   0.0s\n",
      "[CV] END .........................gamma=0.005689866029018305; total time=   0.0s\n",
      "[CV] END .........................gamma=0.014563484775012445; total time=   0.0s\n",
      "[CV] END ..........................gamma=0.03727593720314938; total time=   0.0s\n",
      "[CV] END ..........................gamma=0.09540954763499963; total time=   0.0s\n",
      "[CV] END ...........................gamma=0.2442053094548655; total time=   0.0s\n",
      "[CV] END ...........................gamma=0.6250551925273976; total time=   0.0s\n",
      "[CV] END ...........................gamma=1.5998587196060574; total time=   0.0s\n",
      "[CV] END ............................gamma=4.094915062380419; total time=   0.0s\n",
      "[CV] END ...........................gamma=10.481131341546874; total time=   0.0s\n",
      "[CV] END ...........................gamma=26.826957952797272; total time=   0.0s\n",
      "[CV] END ............................gamma=68.66488450042998; total time=   0.0s\n",
      "[CV] END ...........................gamma=175.75106248547965; total time=   0.0s\n",
      "[CV] END ............................gamma=449.8432668969453; total time=   0.0s\n",
      "[CV] END ...........................gamma=1151.3953993264481; total time=   0.0s\n",
      "[CV] END ...........................gamma=2947.0517025518097; total time=   0.0s\n",
      "[CV] END ............................gamma=7543.120063354608; total time=   0.0s\n",
      "[CV] END ...........................gamma=19306.977288832535; total time=   0.0s\n",
      "[CV] END ............................gamma=49417.13361323838; total time=   0.0s\n",
      "[CV] END ...........................gamma=126485.52168552957; total time=   0.0s\n",
      "[CV] END ............................gamma=323745.7542817653; total time=   0.0s\n",
      "[CV] END ............................gamma=828642.7728546859; total time=   0.0s\n",
      "[CV] END ...........................gamma=2120950.8879201924; total time=   0.0s\n",
      "[CV] END ............................gamma=5428675.439323859; total time=   0.0s\n",
      "[CV] END ............................gamma=13894954.94373136; total time=   0.0s\n",
      "[CV] END ............................gamma=35564803.06223121; total time=   0.0s\n",
      "[CV] END ............................gamma=91029817.79915264; total time=   0.0s\n",
      "[CV] END ...........................gamma=232995181.05153814; total time=   0.0s\n",
      "[CV] END ............................gamma=596362331.6594661; total time=   0.0s\n",
      "[CV] END ...........................gamma=1526417967.1752365; total time=   0.0s\n",
      "[CV] END ...........................gamma=3906939937.0546207; total time=   0.0s\n",
      "[CV] END ................................gamma=10000000000.0; total time=   0.0s\n",
      "[CV] END ........................................gamma=1e-10; total time=   0.0s\n",
      "[CV] END .......................gamma=2.5595479226995335e-10; total time=   0.0s\n",
      "[CV] END ........................gamma=6.551285568595495e-10; total time=   0.0s\n",
      "[CV] END .........................gamma=1.67683293681101e-09; total time=   0.0s\n",
      "[CV] END ........................gamma=4.291934260128778e-09; total time=   0.0s\n",
      "[CV] END .......................gamma=1.0985411419875573e-08; total time=   0.0s\n",
      "[CV] END .......................gamma=2.8117686979742307e-08; total time=   0.0s\n",
      "[CV] END ........................gamma=7.196856730011529e-08; total time=   0.0s\n",
      "[CV] END .......................gamma=1.8420699693267165e-07; total time=   0.0s\n",
      "[CV] END .......................gamma=4.7148663634573897e-07; total time=   0.0s\n",
      "[CV] END .......................gamma=1.2067926406393288e-06; total time=   0.0s\n",
      "[CV] END ........................gamma=3.088843596477485e-06; total time=   0.0s\n",
      "[CV] END ........................gamma=7.906043210907702e-06; total time=   0.0s\n",
      "[CV] END .......................gamma=2.0235896477251556e-05; total time=   0.0s\n",
      "[CV] END .......................gamma=5.1794746792312125e-05; total time=   0.0s\n",
      "[CV] END ........................gamma=0.0001325711365590111; total time=   0.0s\n",
      "[CV] END .........................gamma=0.000339322177189533; total time=   0.0s\n",
      "[CV] END .........................gamma=0.000868511373751352; total time=   0.0s\n",
      "[CV] END ........................gamma=0.0022229964825261957; total time=   0.0s\n",
      "[CV] END .........................gamma=0.005689866029018305; total time=   0.0s\n",
      "[CV] END .........................gamma=0.014563484775012445; total time=   0.0s\n",
      "[CV] END ..........................gamma=0.03727593720314938; total time=   0.0s\n",
      "[CV] END ..........................gamma=0.09540954763499963; total time=   0.0s\n",
      "[CV] END ...........................gamma=0.2442053094548655; total time=   0.0s\n",
      "[CV] END ...........................gamma=0.6250551925273976; total time=   0.0s\n",
      "[CV] END ...........................gamma=1.5998587196060574; total time=   0.0s\n",
      "[CV] END ............................gamma=4.094915062380419; total time=   0.0s\n",
      "[CV] END ...........................gamma=10.481131341546874; total time=   0.0s\n",
      "[CV] END ...........................gamma=26.826957952797272; total time=   0.0s\n",
      "[CV] END ............................gamma=68.66488450042998; total time=   0.0s\n",
      "[CV] END ...........................gamma=175.75106248547965; total time=   0.0s\n",
      "[CV] END ............................gamma=449.8432668969453; total time=   0.0s\n",
      "[CV] END ...........................gamma=1151.3953993264481; total time=   0.0s\n",
      "[CV] END ...........................gamma=2947.0517025518097; total time=   0.0s\n",
      "[CV] END ............................gamma=7543.120063354608; total time=   0.0s\n",
      "[CV] END ...........................gamma=19306.977288832535; total time=   0.0s\n",
      "[CV] END ............................gamma=49417.13361323838; total time=   0.0s\n",
      "[CV] END ...........................gamma=126485.52168552957; total time=   0.0s\n",
      "[CV] END ............................gamma=323745.7542817653; total time=   0.0s\n",
      "[CV] END ............................gamma=828642.7728546859; total time=   0.0s\n",
      "[CV] END ...........................gamma=2120950.8879201924; total time=   0.0s\n",
      "[CV] END ............................gamma=5428675.439323859; total time=   0.0s\n",
      "[CV] END ............................gamma=13894954.94373136; total time=   0.0s\n",
      "[CV] END ............................gamma=35564803.06223121; total time=   0.0s\n",
      "[CV] END ............................gamma=91029817.79915264; total time=   0.0s\n",
      "[CV] END ...........................gamma=232995181.05153814; total time=   0.0s\n",
      "[CV] END ............................gamma=596362331.6594661; total time=   0.0s\n",
      "[CV] END ...........................gamma=1526417967.1752365; total time=   0.0s\n",
      "[CV] END ...........................gamma=3906939937.0546207; total time=   0.0s\n",
      "[CV] END ................................gamma=10000000000.0; total time=   0.0s\n",
      "[CV] END ........................................gamma=1e-10; total time=   0.0s\n",
      "[CV] END .......................gamma=2.5595479226995335e-10; total time=   0.0s\n",
      "[CV] END ........................gamma=6.551285568595495e-10; total time=   0.0s\n",
      "[CV] END .........................gamma=1.67683293681101e-09; total time=   0.0s\n",
      "[CV] END ........................gamma=4.291934260128778e-09; total time=   0.0s\n",
      "[CV] END .......................gamma=1.0985411419875573e-08; total time=   0.0s\n",
      "[CV] END .......................gamma=2.8117686979742307e-08; total time=   0.0s\n",
      "[CV] END ........................gamma=7.196856730011529e-08; total time=   0.0s\n",
      "[CV] END .......................gamma=1.8420699693267165e-07; total time=   0.0s\n",
      "[CV] END .......................gamma=4.7148663634573897e-07; total time=   0.0s\n",
      "[CV] END .......................gamma=1.2067926406393288e-06; total time=   0.0s\n",
      "[CV] END ........................gamma=3.088843596477485e-06; total time=   0.0s\n",
      "[CV] END ........................gamma=7.906043210907702e-06; total time=   0.0s\n",
      "[CV] END .......................gamma=2.0235896477251556e-05; total time=   0.0s\n",
      "[CV] END .......................gamma=5.1794746792312125e-05; total time=   0.0s\n",
      "[CV] END ........................gamma=0.0001325711365590111; total time=   0.0s\n",
      "[CV] END .........................gamma=0.000339322177189533; total time=   0.0s\n",
      "[CV] END .........................gamma=0.000868511373751352; total time=   0.0s\n",
      "[CV] END ........................gamma=0.0022229964825261957; total time=   0.0s\n",
      "[CV] END .........................gamma=0.005689866029018305; total time=   0.0s\n",
      "[CV] END .........................gamma=0.014563484775012445; total time=   0.0s\n",
      "[CV] END ..........................gamma=0.03727593720314938; total time=   0.0s\n",
      "[CV] END ..........................gamma=0.09540954763499963; total time=   0.0s\n",
      "[CV] END ...........................gamma=0.2442053094548655; total time=   0.0s\n",
      "[CV] END ...........................gamma=0.6250551925273976; total time=   0.0s\n",
      "[CV] END ...........................gamma=1.5998587196060574; total time=   0.0s\n",
      "[CV] END ............................gamma=4.094915062380419; total time=   0.0s\n",
      "[CV] END ...........................gamma=10.481131341546874; total time=   0.0s\n",
      "[CV] END ...........................gamma=26.826957952797272; total time=   0.0s\n",
      "[CV] END ............................gamma=68.66488450042998; total time=   0.0s\n",
      "[CV] END ...........................gamma=175.75106248547965; total time=   0.0s\n",
      "[CV] END ............................gamma=449.8432668969453; total time=   0.0s\n",
      "[CV] END ...........................gamma=1151.3953993264481; total time=   0.0s\n",
      "[CV] END ...........................gamma=2947.0517025518097; total time=   0.0s\n",
      "[CV] END ............................gamma=7543.120063354608; total time=   0.0s\n",
      "[CV] END ...........................gamma=19306.977288832535; total time=   0.0s\n",
      "[CV] END ............................gamma=49417.13361323838; total time=   0.0s\n",
      "[CV] END ...........................gamma=126485.52168552957; total time=   0.0s\n",
      "[CV] END ............................gamma=323745.7542817653; total time=   0.0s\n",
      "[CV] END ............................gamma=828642.7728546859; total time=   0.0s\n",
      "[CV] END ...........................gamma=2120950.8879201924; total time=   0.0s\n",
      "[CV] END ............................gamma=5428675.439323859; total time=   0.0s\n",
      "[CV] END ............................gamma=13894954.94373136; total time=   0.0s\n",
      "[CV] END ............................gamma=35564803.06223121; total time=   0.0s\n",
      "[CV] END ............................gamma=91029817.79915264; total time=   0.0s\n",
      "[CV] END ...........................gamma=232995181.05153814; total time=   0.0s\n",
      "[CV] END ............................gamma=596362331.6594661; total time=   0.0s\n",
      "[CV] END ...........................gamma=1526417967.1752365; total time=   0.0s\n",
      "[CV] END ...........................gamma=3906939937.0546207; total time=   0.0s\n",
      "[CV] END ................................gamma=10000000000.0; total time=   0.0s\n"
     ]
    },
    {
     "name": "stderr",
     "output_type": "stream",
     "text": [
      "[Parallel(n_jobs=1)]: Done 250 out of 250 | elapsed:   18.5s finished\n"
     ]
    },
    {
     "data": {
      "image/png": "[encoded data removed]",
      "text/plain": [
       "<Figure size 720x360 with 1 Axes>"
      ]
     },
     "metadata": {
      "needs_background": "light"
     },
     "output_type": "display_data"
    }
   ],
   "source": [
    "train_scores_mean, validation_scores_mean = plot_validation_curve(\n",
    "    model = SVR(kernel=\"rbf\"),\n",
    "    model_name = \"RBF SVR\",\n",
    "    X = X_train,\n",
    "    y = y_train,\n",
    "    param_range = np.logspace(-10,10,50),\n",
    "    param_name = \"gamma\",\n",
    "    scoring = \"neg_mean_absolute_error\",\n",
    "    cv=5,\n",
    "    verbose=2,\n",
    "    xscale = \"log\"\n",
    ")"
   ]
  },
  {
   "cell_type": "code",
   "execution_count": 21,
   "metadata": {},
   "outputs": [
    {
     "data": {
      "text/plain": [
       "(0.2442053094548655, -0.1304057051786754)"
      ]
     },
     "execution_count": 21,
     "metadata": {},
     "output_type": "execute_result"
    }
   ],
   "source": [
    "sorted(zip(np.logspace(-10,10,50), validation_scores_mean), key=lambda x:x[1])[-1]"
   ]
  },
  {
   "cell_type": "code",
   "execution_count": 25,
   "metadata": {},
   "outputs": [
    {
     "data": {
      "image/png": "[encoded data removed]",
      "text/plain": [
       "<Figure size 720x360 with 1 Axes>"
      ]
     },
     "metadata": {
      "needs_background": "light"
     },
     "output_type": "display_data"
    }
   ],
   "source": [
    "train_scores_mean, validation_scores_mean = plot_validation_curve(\n",
    "    model = SVR(kernel=\"rbf\",gamma=0.244),\n",
    "    model_name = \"RBF SVR (gamma=0.244)\",\n",
    "    X = X_train,\n",
    "    y = y_train,\n",
    "    param_range = np.logspace(-5,3,100),\n",
    "    param_name = \"C\",\n",
    "    scoring = \"neg_mean_absolute_error\",\n",
    "    cv=5,\n",
    "    verbose=0,\n",
    "    xscale = \"log\"\n",
    ")"
   ]
  },
  {
   "cell_type": "code",
   "execution_count": 29,
   "metadata": {},
   "outputs": [
    {
     "data": {
      "image/png": "[encoded data removed]",
      "text/plain": [
       "<Figure size 720x360 with 1 Axes>"
      ]
     },
     "metadata": {
      "needs_background": "light"
     },
     "output_type": "display_data"
    }
   ],
   "source": [
    "train_scores_mean, validation_scores_mean = plot_validation_curve(\n",
    "    model = SVR(kernel=\"rbf\",gamma=0.244,C=10),\n",
    "    model_name = \"RBF SVR (gamma=0.244,C=10)\",\n",
    "    X = X_train,\n",
    "    y = y_train,\n",
    "    param_range = np.logspace(-5,2,100),\n",
    "    param_name = \"epsilon\",\n",
    "    scoring = \"neg_mean_absolute_error\",\n",
    "    cv=5,\n",
    "    verbose=0,\n",
    "    xscale = \"log\"\n",
    ")"
   ]
  },
  {
   "cell_type": "code",
   "execution_count": 30,
   "metadata": {},
   "outputs": [
    {
     "data": {
      "text/plain": [
       "0.09587423674738878"
      ]
     },
     "execution_count": 30,
     "metadata": {},
     "output_type": "execute_result"
    }
   ],
   "source": [
    "model = SVR(kernel=\"rbf\",gamma=0.244,C=10,epsilon=1e-3)\n",
    "test_model(model,X_train,y_train,X_test,y_test)"
   ]
  },
  {
   "cell_type": "markdown",
   "metadata": {},
   "source": [
    "# Least Angle Regression"
   ]
  },
  {
   "cell_type": "code",
   "execution_count": null,
   "metadata": {},
   "outputs": [],
   "source": []
  },
  {
   "cell_type": "markdown",
   "metadata": {},
   "source": [
    "# Wnioski\n",
    "W oryginalnych danych alkoholizm był określany w skali 1-5 (very low, low, avg, high, very high). Po przeskalowaniu na zakres 0-1, jednemu punktowi w skali odpowiada 0.2. W większości modeli błąd był mniejszy niż 0.2 i bliski 0.14. Oznacza to, że nasz model nie myli się bardziej niż o jeden stopień w skali czyli np. kogoś kto pije mało zaklasyfikuje w najgorszym razie jako pijącego bardzo mało lub średnio. Największe błędy model osiąga dla osób, których warunki środowiskowe są bardzo trudne ale osoby te mają silny charakter i nie przesadzają z alkoholem pomimo trudnego życia (to bardzo optymistyczne :))."
   ]
  }
 ],
 "metadata": {
  "interpreter": {
   "hash": "de18c5f020630268d1f13c781f9ed7cdcc120b3dd18e8c0afb74468dd85ea338"
  },
  "kernelspec": {
   "display_name": "Python 3.8.11 64-bit ('MED': conda)",
   "language": "python",
   "name": "python3"
  },
  "language_info": {
   "codemirror_mode": {
    "name": "ipython",
    "version": 3
   },
   "file_extension": ".py",
   "mimetype": "text/x-python",
   "name": "python",
   "nbconvert_exporter": "python",
   "pygments_lexer": "ipython3",
   "version": "3.8.11"
  },
  "orig_nbformat": 4
 },
 "nbformat": 4,
 "nbformat_minor": 2
}
